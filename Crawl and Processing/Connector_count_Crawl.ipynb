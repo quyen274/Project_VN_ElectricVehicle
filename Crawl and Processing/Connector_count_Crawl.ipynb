{
 "cells": [
  {
   "cell_type": "code",
   "execution_count": 1,
   "id": "5fc10e7e-a1dc-40b0-9d9e-71bb16ecbf90",
   "metadata": {},
   "outputs": [
    {
     "name": "stdout",
     "output_type": "stream",
     "text": [
      "Đã lưu 8133 dòng vào vinfast_connector_count.csv\n"
     ]
    }
   ],
   "source": [
    "import requests\n",
    "import csv\n",
    "import time\n",
    "\n",
    "BASE_URL = \"https://vinfastauto.com/vn_vi/get-locator\"\n",
    "OUTPUT_CSV = \"vinfast_connector_count.csv\"\n",
    "\n",
    "HEADERS = {\n",
    "    \"User-Agent\": \"Mozilla/5.0 (Windows NT 10.0; Win64; x64)\"\n",
    "}\n",
    "TIMEOUT = 7\n",
    "SLEEP = 0.05  # tránh rate limit\n",
    "\n",
    "def _count_connectors(obj):\n",
    "    \"\"\"Đếm tổng số phần tử trong mọi mảng key='connectors' (đệ quy toàn bộ cây).\"\"\"\n",
    "    if obj is None:\n",
    "        return 0\n",
    "    total = 0\n",
    "    if isinstance(obj, dict):\n",
    "        for k, v in obj.items():\n",
    "            if isinstance(k, str) and k.lower() == \"connectors\" and isinstance(v, list):\n",
    "                # Đếm số phần tử thực sự là 'cổng'\n",
    "                # (ở cấu trúc bạn đưa, mỗi phần tử connectors là 1 dict có 'id'/'standard'...)\n",
    "                total += sum(1 for x in v if x is not None)\n",
    "            total += _count_connectors(v)\n",
    "    elif isinstance(obj, list):\n",
    "        for it in obj:\n",
    "            total += _count_connectors(it)\n",
    "    return total\n",
    "\n",
    "def fetch_connector_count(station_id: int):\n",
    "    url = f\"{BASE_URL}/{station_id}\"\n",
    "    try:\n",
    "        r = requests.get(url, timeout=TIMEOUT, headers=HEADERS)\n",
    "        if r.status_code != 200:\n",
    "            return None\n",
    "        root = r.json() or {}\n",
    "        payload = root.get(\"data\", {}) or {}\n",
    "        nested = payload.get(\"data\", {}) or {}\n",
    "\n",
    "        # Ưu tiên đếm ở tầng sâu nhất (tránh đếm trùng nếu bên ngoài cũng có tóm tắt)\n",
    "        cnt = _count_connectors(nested)\n",
    "        if cnt == 0:\n",
    "            cnt = _count_connectors(payload)\n",
    "        if cnt == 0:\n",
    "            cnt = _count_connectors(root)\n",
    "\n",
    "        # Nếu vẫn 0, coi như trạm/ID không hợp lệ hoặc không có cổng\n",
    "        return {\"id\": station_id, \"connector_count\": cnt}\n",
    "    except requests.RequestException:\n",
    "        return None\n",
    "    except ValueError:\n",
    "        return None\n",
    "\n",
    "def main():\n",
    "    results = []\n",
    "    # Điều chỉnh dải ID theo nhu cầu của bạn\n",
    "    for sid in range(14000, 30001):\n",
    "        info = fetch_connector_count(sid)\n",
    "        if info and info[\"connector_count\"] > 0:\n",
    "            results.append(info)\n",
    "        time.sleep(SLEEP)\n",
    "\n",
    "    with open(OUTPUT_CSV, \"w\", newline=\"\", encoding=\"utf-8\") as f:\n",
    "        writer = csv.DictWriter(f, fieldnames=[\"id\", \"connector_count\"])\n",
    "        writer.writeheader()\n",
    "        writer.writerows(results)\n",
    "\n",
    "    print(f\"Đã lưu {len(results)} dòng vào {OUTPUT_CSV}\")\n",
    "\n",
    "if __name__ == \"__main__\":\n",
    "    main()\n"
   ]
  },
  {
   "cell_type": "code",
   "execution_count": null,
   "id": "3a79877c-a16c-40e7-a4d5-3234d0f28e4b",
   "metadata": {},
   "outputs": [],
   "source": []
  }
 ],
 "metadata": {
  "kernelspec": {
   "display_name": "Python 3 (ipykernel)",
   "language": "python",
   "name": "python3"
  },
  "language_info": {
   "codemirror_mode": {
    "name": "ipython",
    "version": 3
   },
   "file_extension": ".py",
   "mimetype": "text/x-python",
   "name": "python",
   "nbconvert_exporter": "python",
   "pygments_lexer": "ipython3",
   "version": "3.10.11"
  }
 },
 "nbformat": 4,
 "nbformat_minor": 5
}
