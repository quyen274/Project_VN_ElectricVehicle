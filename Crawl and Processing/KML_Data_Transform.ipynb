{
 "cells": [
  {
   "cell_type": "code",
   "execution_count": 3,
   "id": "81170fbf-27f1-4cf2-8e2c-6ad9d86406a0",
   "metadata": {},
   "outputs": [],
   "source": [
    "import xml.etree.ElementTree as ET \n",
    "import pandas as pd"
   ]
  },
  {
   "cell_type": "code",
   "execution_count": 4,
   "id": "2b7d114d-77a4-4534-8fe9-f9f9a261e0b8",
   "metadata": {},
   "outputs": [
    {
     "name": "stdout",
     "output_type": "stream",
     "text": [
      "                         name  \\\n",
      "0        Vincom Plaza Hà Tĩnh   \n",
      "1             Vinhomes Marina   \n",
      "2  Vinpearl Waterpark Hà Tĩnh   \n",
      "3  Vinpearl Discovery Cửa Hội   \n",
      "4             Vincom+ Nam Đàn   \n",
      "\n",
      "                                         description   longitude   latitude  \\\n",
      "0  Latitude: 18.3367<br>Longitude: 105.895203<br>...  105.895203  18.336700   \n",
      "1  Latitude: 20.820971<br>Longitude: 106.689148<b...  106.689148  20.820971   \n",
      "2  Latitude: 18.48855<br>Longitude: 105.891556<br...  105.891556  18.488550   \n",
      "3  Latitude: 18.770851<br>Longitude: 105.75724<br...  105.757240  18.770851   \n",
      "4  Latitude: 18.706059<br>Longitude: 105.494881<b...  105.494881  18.706059   \n",
      "\n",
      "    Latitude   Longitude                                            Địa Chỉ  \\\n",
      "0    18.3367  105.895203  Vincom Plaza Hà Tĩnh, ngã tư đường Hàm Nghi gi...   \n",
      "1  20.820971  106.689148  Vinhomes Marina, Đường Cầu Rào 2, phường Vĩnh ...   \n",
      "2   18.48855  105.891556  Bãi đỗ xe ngoài trời Wertepak Hà Tĩnh, xóm hòa...   \n",
      "3  18.770851   105.75724  Bãi đỗ xe ngoài trời Vinpearl Discovery Cửa Hộ...   \n",
      "4  18.706059  105.494881  Bãi đỗ xe Vincom+ Nam Đàn, khối Nam Bắc Sơn, H...   \n",
      "\n",
      "                                            Cổng sạc Thời gian hoạt động  \\\n",
      "0                                       5 cổng 250KW                24/7   \n",
      "1             1 cổng 250KW\\n8 cổng 60KW\\n1 cổng 11KW                24/7   \n",
      "2  1 cổng 250KW\\n2 cổng 30KW\\n6 cổng 20KW\\n6 cổng...                24/7   \n",
      "3             1 cổng 250KW\\n2 cổng 30KW\\n5 cổng 11KW                24/7   \n",
      "4                          1 cổng 250KW\\n4 cổng 60KW                24/7   \n",
      "\n",
      "           Gửi xe   Trạm sạc Cập nhật lần cuối  \n",
      "0  Có thể mất phí  Công cộng  12/07/2025 22:17  \n",
      "1  Có thể mất phí  Công cộng  12/07/2025 22:17  \n",
      "2  Có thể mất phí  Công cộng  12/07/2025 22:17  \n",
      "3  Có thể mất phí  Công cộng  12/07/2025 22:17  \n",
      "4  Có thể mất phí  Công cộng  12/07/2025 22:17  \n"
     ]
    }
   ],
   "source": [
    "def parse_kml(file_path):\n",
    "    # 1. Đọc và parse file\n",
    "    tree = ET.parse(file_path)\n",
    "    root = tree.getroot()\n",
    "\n",
    "    # 2. Namespace của KML\n",
    "    ns = {'kml': 'http://www.opengis.net/kml/2.2'}\n",
    "\n",
    "    records = []\n",
    "    # 3. Duyệt từng Placemark\n",
    "    for pm in root.findall('.//kml:Placemark', ns):\n",
    "        rec = {}\n",
    "\n",
    "        # — Lấy name & description\n",
    "        name_el = pm.find('kml:name', ns)\n",
    "        rec['name'] = name_el.text if name_el is not None else ''\n",
    "\n",
    "        desc_el = pm.find('kml:description', ns)\n",
    "        rec['description'] = desc_el.text if desc_el is not None else ''\n",
    "\n",
    "        # — Lấy tọa độ (longitude, latitude, [alt])\n",
    "        coord_el = pm.find('.//kml:coordinates', ns)\n",
    "        if coord_el is not None and coord_el.text:\n",
    "            parts = coord_el.text.strip().split(',')\n",
    "            rec['longitude'] = float(parts[0])\n",
    "            rec['latitude']  = float(parts[1])\n",
    "        else:\n",
    "            rec['longitude'] = rec['latitude'] = None\n",
    "\n",
    "        # — Lấy các field trong <ExtendedData>\n",
    "        #    Mỗi <Data name=\"...\"><value>...</value>\n",
    "        for data_el in pm.findall('.//kml:ExtendedData/kml:Data', ns):\n",
    "            key = data_el.get('name')\n",
    "            val_el = data_el.find('kml:value', ns)\n",
    "            rec[key] = val_el.text if val_el is not None else ''\n",
    "\n",
    "        records.append(rec)\n",
    "\n",
    "    # 4. Chuyển list dict thành DataFrame\n",
    "    df = pd.DataFrame(records)\n",
    "    return df\n",
    "\n",
    "if __name__ == '__main__':\n",
    "    # Đường dẫn đến file KML\n",
    "    kml_file = 'Trạm sạc VinFast.kml'\n",
    "    df = parse_kml(kml_file)\n",
    "\n",
    "    # In thử 5 dòng đầu\n",
    "    print(df.head())"
   ]
  },
  {
   "cell_type": "code",
   "execution_count": 5,
   "id": "703313f5-9f88-429c-b0d3-6a85adf94fb8",
   "metadata": {},
   "outputs": [],
   "source": [
    "df.to_csv('Vinfast_station.csv',index=False)"
   ]
  },
  {
   "cell_type": "code",
   "execution_count": null,
   "id": "304ab6ff-d526-4f83-a80f-4a7885a1c59b",
   "metadata": {},
   "outputs": [],
   "source": []
  }
 ],
 "metadata": {
  "kernelspec": {
   "display_name": "Python 3 (ipykernel)",
   "language": "python",
   "name": "python3"
  },
  "language_info": {
   "codemirror_mode": {
    "name": "ipython",
    "version": 3
   },
   "file_extension": ".py",
   "mimetype": "text/x-python",
   "name": "python",
   "nbconvert_exporter": "python",
   "pygments_lexer": "ipython3",
   "version": "3.10.11"
  }
 },
 "nbformat": 4,
 "nbformat_minor": 5
}
